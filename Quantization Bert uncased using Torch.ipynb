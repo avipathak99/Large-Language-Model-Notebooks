{
 "cells": [
  {
   "cell_type": "code",
   "execution_count": 2,
   "id": "9c0f8927",
   "metadata": {},
   "outputs": [],
   "source": [
    "import torch\n",
    "from transformers import BertForSequenceClassification, BertTokenizer\n",
    "from sklearn.metrics import accuracy_score\n",
    "import time"
   ]
  },
  {
   "cell_type": "code",
   "execution_count": 4,
   "id": "46601a3c",
   "metadata": {},
   "outputs": [
    {
     "name": "stderr",
     "output_type": "stream",
     "text": [
      "Some weights of the model checkpoint at bert-base-uncased were not used when initializing BertForSequenceClassification: ['cls.seq_relationship.bias', 'cls.predictions.bias', 'cls.predictions.transform.dense.weight', 'cls.predictions.transform.dense.bias', 'cls.predictions.transform.LayerNorm.bias', 'cls.predictions.transform.LayerNorm.weight', 'cls.seq_relationship.weight']\n",
      "- This IS expected if you are initializing BertForSequenceClassification from the checkpoint of a model trained on another task or with another architecture (e.g. initializing a BertForSequenceClassification model from a BertForPreTraining model).\n",
      "- This IS NOT expected if you are initializing BertForSequenceClassification from the checkpoint of a model that you expect to be exactly identical (initializing a BertForSequenceClassification model from a BertForSequenceClassification model).\n",
      "Some weights of BertForSequenceClassification were not initialized from the model checkpoint at bert-base-uncased and are newly initialized: ['classifier.weight', 'classifier.bias']\n",
      "You should probably TRAIN this model on a down-stream task to be able to use it for predictions and inference.\n"
     ]
    },
    {
     "name": "stdout",
     "output_type": "stream",
     "text": [
      "Model accuracy: 1.0\n"
     ]
    }
   ],
   "source": [
    "# Load the pre-trained BERT model and tokenizer\n",
    "model_name = \"bert-base-uncased\"\n",
    "model = BertForSequenceClassification.from_pretrained(model_name)\n",
    "tokenizer = BertTokenizer.from_pretrained(model_name)\n",
    "\n",
    "# Define training and test data\n",
    "train_texts = [\"This is the first sentence.\", \"Another sentence for training.\"]\n",
    "train_labels = [1, 0]\n",
    "test_texts = [\"A test sentence.\", \"Yet another test sentence.\"]\n",
    "test_labels = [1, 1]\n",
    "\n",
    "# Tokenize and encode the training data\n",
    "train_encodings = tokenizer(train_texts, truncation=True, padding=True)\n",
    "train_input_ids = torch.tensor(train_encodings['input_ids'])\n",
    "train_attention_mask = torch.tensor(train_encodings['attention_mask'])\n",
    "train_labels = torch.tensor(train_labels)\n",
    "\n",
    "# Tokenize and encode the test data\n",
    "test_encodings = tokenizer(test_texts, truncation=True, padding=True)\n",
    "test_input_ids = torch.tensor(test_encodings['input_ids'])\n",
    "test_attention_mask = torch.tensor(test_encodings['attention_mask'])\n",
    "test_labels = torch.tensor(test_labels)\n",
    "\n",
    "# Create training dataset\n",
    "train_dataset = torch.utils.data.TensorDataset(train_input_ids, train_attention_mask, train_labels)\n",
    "\n",
    "# Fine-tune the BERT model on the training data\n",
    "optimizer = torch.optim.Adam(model.parameters(), lr=1e-5)\n",
    "train_loader = torch.utils.data.DataLoader(train_dataset, batch_size=2, shuffle=True)\n",
    "\n",
    "model.train()\n",
    "for batch in train_loader:\n",
    "    optimizer.zero_grad()\n",
    "    input_ids, attention_mask, labels = batch\n",
    "    outputs = model(input_ids=input_ids, attention_mask=attention_mask, labels=labels)\n",
    "    loss = outputs.loss\n",
    "    loss.backward()\n",
    "    optimizer.step()\n",
    "\n",
    "# Evaluate the model on the test data\n",
    "model.eval()\n",
    "with torch.no_grad():\n",
    "    outputs = model(input_ids=test_input_ids, attention_mask=test_attention_mask)\n",
    "    logits = outputs.logits\n",
    "    predictions = torch.argmax(logits, dim=1)\n",
    "    accuracy = accuracy_score(predictions, test_labels)\n",
    "    print(\"Model accuracy:\", accuracy)\n"
   ]
  },
  {
   "cell_type": "code",
   "execution_count": 5,
   "id": "37325bba",
   "metadata": {},
   "outputs": [],
   "source": [
    "# # Load the pre-trained BERT model and tokenizer\n",
    "# model_name = \"bert-base-uncased\"\n",
    "# model = BertForSequenceClassification.from_pretrained(model_name)\n",
    "# tokenizer = BertTokenizer.from_pretrained(model_name)\n",
    "\n",
    "# # Define training and test data\n",
    "# train_texts = [\"This is the first sentence.\", \"Another sentence for training.\"]\n",
    "# train_labels = [1, 0]\n",
    "# test_texts = [\"A test sentence.\", \"Yet another test sentence.\"]\n",
    "# test_labels = [1, 1]\n",
    "\n",
    "# # Tokenize and encode the training data\n",
    "# train_encodings = tokenizer(train_texts, truncation=True, padding=True)\n",
    "# train_labels = torch.tensor(train_labels)\n",
    "\n",
    "# # Tokenize and encode the test data\n",
    "# test_encodings = tokenizer(test_texts, truncation=True, padding=True)\n",
    "# test_labels = torch.tensor(test_labels)\n",
    "\n",
    "# # Fine-tune the BERT model on the training data\n",
    "# optimizer = torch.optim.Adam(model.parameters(), lr=1e-5)\n",
    "# train_dataset = torch.utils.data.TensorDataset(train_encodings['input_ids'], train_encodings['attention_mask'], train_labels)\n",
    "# train_loader = torch.utils.data.DataLoader(train_dataset, batch_size=2, shuffle=True)\n",
    "\n",
    "# model.train()\n",
    "# for batch in train_loader:\n",
    "#     optimizer.zero_grad()\n",
    "#     input_ids, attention_mask, labels = batch\n",
    "#     outputs = model(input_ids=input_ids, attention_mask=attention_mask, labels=labels)\n",
    "#     loss = outputs.loss\n",
    "#     loss.backward()\n",
    "#     optimizer.step()\n",
    "\n",
    "# # Evaluate the original model on the test data\n",
    "# model.eval()\n",
    "# with torch.no_grad():\n",
    "#     input_ids = test_encodings['input_ids']\n",
    "#     attention_mask = test_encodings['attention_mask']\n",
    "#     labels = test_labels\n",
    "#     outputs = model(input_ids=input_ids, attention_mask=attention_mask)\n",
    "#     logits = outputs.logits\n",
    "#     predictions = torch.argmax(logits, dim=1)\n",
    "#     accuracy = accuracy_score(predictions, labels)\n",
    "#     print(\"Original model accuracy:\", accuracy)\n",
    "\n",
    "# Save the original model\n",
    "model.save_pretrained(\"original_model\")"
   ]
  },
  {
   "cell_type": "code",
   "execution_count": null,
   "id": "51545ea0",
   "metadata": {},
   "outputs": [],
   "source": [
    "# Quantize the model\n",
    "quantized_model = torch.quantization.quantize_dynamic(model, {torch.nn.Linear}, dtype=torch.qint8)\n",
    "\n",
    "# Evaluate the quantized model on the test data\n",
    "quantized_model.eval()\n",
    "with torch.no_grad():\n",
    "    #input_ids = test_encodings['input_ids']\n",
    "    #attention_mask = test_encodings['attention_mask']\n",
    "    outputs = quantized_model(input_ids=test_input_ids, attention_mask=test_attention_mask)\n",
    "    logits = outputs.logits\n",
    "    predictions = torch.argmax(logits, dim=1)\n",
    "    accuracy = accuracy_score(predictions, labels)\n",
    "    print(\"Quantized model accuracy:\", accuracy)\n",
    "\n",
    "# Save the quantized model, NOTE - save pre-trained did not work directly on quantized model\n",
    "#quantized_model.save_pretrained(\"quantized_model\")\n",
    "\n"
   ]
  },
  {
   "cell_type": "code",
   "execution_count": 8,
   "id": "d90d6906",
   "metadata": {},
   "outputs": [],
   "source": [
    "torch.save(quantized_model.state_dict(), \"quantized_model.pt\")"
   ]
  },
  {
   "cell_type": "code",
   "execution_count": 11,
   "id": "9765765a",
   "metadata": {},
   "outputs": [
    {
     "name": "stdout",
     "output_type": "stream",
     "text": [
      "876104 original_model.pt\r\n"
     ]
    }
   ],
   "source": [
    "!ls -1has original_model.pt"
   ]
  },
  {
   "cell_type": "code",
   "execution_count": 12,
   "id": "2f5804f1",
   "metadata": {},
   "outputs": [
    {
     "name": "stdout",
     "output_type": "stream",
     "text": [
      "360576 quantized_model.pt\r\n"
     ]
    }
   ],
   "source": [
    "!ls -1has quantized_model.pt"
   ]
  },
  {
   "cell_type": "code",
   "execution_count": null,
   "id": "1bfc3146",
   "metadata": {},
   "outputs": [],
   "source": [
    "# # Calculate model sizes\n",
    "# original_model_size = torch.save(model.state_dict(), \"original_model.pt\")\n",
    "# quantized_model_size = torch.save(quantized_model.state_dict(), \"quantized_model.pt\")\n",
    "# print(\"Original model size:\", original_model_size)\n",
    "# print(\"Quantized model size:\", quantized_model_size)\n",
    "\n",
    "# # Measure inference time\n",
    "# num_iterations = 1000\n",
    "\n",
    "# # Inference time for the original model\n",
    "# model_start_time = time.time()\n",
    "# for _ in range(num_iterations):\n",
    "#     with torch.no_grad():\n",
    "#         model(input_ids=input_ids, attention_mask=attention_mask)\n",
    "# model_end_time = time.time()\n",
    "# model_inference_time = (model_end_time - model_start_time) / num_iterations\n",
    "# print(\"Original model average inference time:\", model_inference_time)\n",
    "\n",
    "# # Inference time for the quantized model\n",
    "# quantized_model_start_time = time.time()\n",
    "# for _ in range(num_iterations):\n",
    "#     with torch.no_grad():\n",
    "#         quantized_model(input_ids=input_ids, attention_mask=attention_mask)\n",
    "# quantized_model_end_time = time.time()\n",
    "# quantized_model_inference_time = (quantized_model_end_time - quantized_model_start_time) / num_iterations\n",
    "# print(\"Quantized model average inference time:\", quantized_model_inference_time)\n"
   ]
  },
  {
   "cell_type": "code",
   "execution_count": null,
   "id": "6f887f99",
   "metadata": {},
   "outputs": [],
   "source": []
  }
 ],
 "metadata": {
  "kernelspec": {
   "display_name": "Python 3 (ipykernel)",
   "language": "python",
   "name": "python3"
  },
  "language_info": {
   "codemirror_mode": {
    "name": "ipython",
    "version": 3
   },
   "file_extension": ".py",
   "mimetype": "text/x-python",
   "name": "python",
   "nbconvert_exporter": "python",
   "pygments_lexer": "ipython3",
   "version": "3.11.3"
  }
 },
 "nbformat": 4,
 "nbformat_minor": 5
}
