{
 "cells": [
  {
   "cell_type": "code",
   "execution_count": 1,
   "id": "a310e31e",
   "metadata": {},
   "outputs": [],
   "source": []
  },
  {
   "cell_type": "code",
   "execution_count": 2,
   "id": "71206b6d",
   "metadata": {},
   "outputs": [
    {
     "name": "stdout",
     "output_type": "stream",
     "text": [
      "Requirement already satisfied: cohere in /Users/pathakav/LLM/lib/python3.11/site-packages (4.20.2)\n",
      "Requirement already satisfied: umap-learn in /Users/pathakav/LLM/lib/python3.11/site-packages (0.5.3)\n",
      "Requirement already satisfied: altair in /Users/pathakav/LLM/lib/python3.11/site-packages (5.0.1)\n",
      "Requirement already satisfied: datasets in /Users/pathakav/LLM/lib/python3.11/site-packages (2.13.1)\n",
      "Requirement already satisfied: aiohttp<4.0,>=3.0 in /Users/pathakav/LLM/lib/python3.11/site-packages (from cohere) (3.8.4)\n",
      "Requirement already satisfied: backoff<3.0,>=2.0 in /Users/pathakav/LLM/lib/python3.11/site-packages (from cohere) (2.2.1)\n",
      "Requirement already satisfied: fastavro==1.8.2 in /Users/pathakav/LLM/lib/python3.11/site-packages (from cohere) (1.8.2)\n",
      "Requirement already satisfied: importlib_metadata<7.0,>=6.0 in /Users/pathakav/LLM/lib/python3.11/site-packages (from cohere) (6.8.0)\n",
      "Requirement already satisfied: requests<3.0.0,>=2.25.0 in /Users/pathakav/LLM/lib/python3.11/site-packages (from cohere) (2.31.0)\n",
      "Requirement already satisfied: urllib3<3,>=1.26 in /Users/pathakav/LLM/lib/python3.11/site-packages (from cohere) (1.26.16)\n",
      "Collecting numpy>=1.17 (from umap-learn)\n",
      "  Downloading numpy-1.25.2-cp311-cp311-macosx_10_9_x86_64.whl (20.8 MB)\n",
      "\u001b[2K     \u001b[90m━━━━━━━━━━━━━━━━━━━━━━━━━━━━━━━━━━━━━━━━\u001b[0m \u001b[32m20.8/20.8 MB\u001b[0m \u001b[31m7.5 MB/s\u001b[0m eta \u001b[36m0:00:00\u001b[0m00:01\u001b[0m00:01\u001b[0m\n",
      "\u001b[?25hRequirement already satisfied: scikit-learn>=0.22 in /Users/pathakav/LLM/lib/python3.11/site-packages (from umap-learn) (1.3.0)\n",
      "Requirement already satisfied: scipy>=1.0 in /Users/pathakav/LLM/lib/python3.11/site-packages (from umap-learn) (1.11.1)\n",
      "Requirement already satisfied: numba>=0.49 in /Users/pathakav/LLM/lib/python3.11/site-packages (from umap-learn) (0.57.1)\n",
      "Requirement already satisfied: pynndescent>=0.5 in /Users/pathakav/LLM/lib/python3.11/site-packages (from umap-learn) (0.5.10)\n",
      "Requirement already satisfied: tqdm in /Users/pathakav/LLM/lib/python3.11/site-packages (from umap-learn) (4.66.0)\n",
      "Requirement already satisfied: jinja2 in /Users/pathakav/LLM/lib/python3.11/site-packages (from altair) (3.1.2)\n",
      "Requirement already satisfied: jsonschema>=3.0 in /Users/pathakav/LLM/lib/python3.11/site-packages (from altair) (4.18.0)\n",
      "Requirement already satisfied: pandas>=0.18 in /Users/pathakav/LLM/lib/python3.11/site-packages (from altair) (2.0.3)\n",
      "Requirement already satisfied: toolz in /Users/pathakav/LLM/lib/python3.11/site-packages (from altair) (0.12.0)\n",
      "Requirement already satisfied: pyarrow>=8.0.0 in /Users/pathakav/LLM/lib/python3.11/site-packages (from datasets) (11.0.0)\n",
      "Requirement already satisfied: dill<0.3.7,>=0.3.0 in /Users/pathakav/LLM/lib/python3.11/site-packages (from datasets) (0.3.6)\n",
      "Requirement already satisfied: xxhash in /Users/pathakav/LLM/lib/python3.11/site-packages (from datasets) (3.2.0)\n",
      "Requirement already satisfied: multiprocess in /Users/pathakav/LLM/lib/python3.11/site-packages (from datasets) (0.70.14)\n",
      "Requirement already satisfied: fsspec[http]>=2021.11.1 in /Users/pathakav/LLM/lib/python3.11/site-packages (from datasets) (2023.6.0)\n",
      "Requirement already satisfied: huggingface-hub<1.0.0,>=0.11.0 in /Users/pathakav/LLM/lib/python3.11/site-packages (from datasets) (0.16.4)\n",
      "Requirement already satisfied: packaging in /Users/pathakav/LLM/lib/python3.11/site-packages (from datasets) (23.1)\n",
      "Requirement already satisfied: pyyaml>=5.1 in /Users/pathakav/LLM/lib/python3.11/site-packages (from datasets) (6.0)\n",
      "Requirement already satisfied: attrs>=17.3.0 in /Users/pathakav/LLM/lib/python3.11/site-packages (from aiohttp<4.0,>=3.0->cohere) (23.1.0)\n",
      "Requirement already satisfied: charset-normalizer<4.0,>=2.0 in /Users/pathakav/LLM/lib/python3.11/site-packages (from aiohttp<4.0,>=3.0->cohere) (3.2.0)\n",
      "Requirement already satisfied: multidict<7.0,>=4.5 in /Users/pathakav/LLM/lib/python3.11/site-packages (from aiohttp<4.0,>=3.0->cohere) (6.0.4)\n",
      "Requirement already satisfied: async-timeout<5.0,>=4.0.0a3 in /Users/pathakav/LLM/lib/python3.11/site-packages (from aiohttp<4.0,>=3.0->cohere) (4.0.2)\n",
      "Requirement already satisfied: yarl<2.0,>=1.0 in /Users/pathakav/LLM/lib/python3.11/site-packages (from aiohttp<4.0,>=3.0->cohere) (1.9.2)\n",
      "Requirement already satisfied: frozenlist>=1.1.1 in /Users/pathakav/LLM/lib/python3.11/site-packages (from aiohttp<4.0,>=3.0->cohere) (1.3.3)\n",
      "Requirement already satisfied: aiosignal>=1.1.2 in /Users/pathakav/LLM/lib/python3.11/site-packages (from aiohttp<4.0,>=3.0->cohere) (1.3.1)\n",
      "Requirement already satisfied: filelock in /Users/pathakav/LLM/lib/python3.11/site-packages (from huggingface-hub<1.0.0,>=0.11.0->datasets) (3.12.2)\n",
      "Requirement already satisfied: typing-extensions>=3.7.4.3 in /Users/pathakav/LLM/lib/python3.11/site-packages (from huggingface-hub<1.0.0,>=0.11.0->datasets) (4.7.1)\n",
      "Requirement already satisfied: zipp>=0.5 in /Users/pathakav/LLM/lib/python3.11/site-packages (from importlib_metadata<7.0,>=6.0->cohere) (3.16.0)\n",
      "Requirement already satisfied: jsonschema-specifications>=2023.03.6 in /Users/pathakav/LLM/lib/python3.11/site-packages (from jsonschema>=3.0->altair) (2023.6.1)\n",
      "Requirement already satisfied: referencing>=0.28.4 in /Users/pathakav/LLM/lib/python3.11/site-packages (from jsonschema>=3.0->altair) (0.29.1)\n",
      "Requirement already satisfied: rpds-py>=0.7.1 in /Users/pathakav/LLM/lib/python3.11/site-packages (from jsonschema>=3.0->altair) (0.8.10)\n",
      "Requirement already satisfied: llvmlite<0.41,>=0.40.0dev0 in /Users/pathakav/LLM/lib/python3.11/site-packages (from numba>=0.49->umap-learn) (0.40.1)\n",
      "  Downloading numpy-1.24.4-cp311-cp311-macosx_10_9_x86_64.whl (19.8 MB)\n",
      "\u001b[2K     \u001b[90m━━━━━━━━━━━━━━━━━━━━━━━━━━━━━━━━━━━━━━━━\u001b[0m \u001b[32m19.8/19.8 MB\u001b[0m \u001b[31m6.7 MB/s\u001b[0m eta \u001b[36m0:00:00\u001b[0m00:01\u001b[0m00:01\u001b[0m\n",
      "\u001b[?25hRequirement already satisfied: python-dateutil>=2.8.2 in /Users/pathakav/LLM/lib/python3.11/site-packages (from pandas>=0.18->altair) (2.8.2)\n",
      "Requirement already satisfied: pytz>=2020.1 in /Users/pathakav/LLM/lib/python3.11/site-packages (from pandas>=0.18->altair) (2023.3)\n",
      "Requirement already satisfied: tzdata>=2022.1 in /Users/pathakav/LLM/lib/python3.11/site-packages (from pandas>=0.18->altair) (2023.3)\n",
      "Requirement already satisfied: joblib>=0.11 in /Users/pathakav/LLM/lib/python3.11/site-packages (from pynndescent>=0.5->umap-learn) (1.3.1)\n",
      "Requirement already satisfied: idna<4,>=2.5 in /Users/pathakav/LLM/lib/python3.11/site-packages (from requests<3.0.0,>=2.25.0->cohere) (3.4)\n",
      "Requirement already satisfied: certifi>=2017.4.17 in /Users/pathakav/LLM/lib/python3.11/site-packages (from requests<3.0.0,>=2.25.0->cohere) (2023.5.7)\n",
      "Requirement already satisfied: threadpoolctl>=2.0.0 in /Users/pathakav/LLM/lib/python3.11/site-packages (from scikit-learn>=0.22->umap-learn) (3.1.0)\n",
      "Requirement already satisfied: MarkupSafe>=2.0 in /Users/pathakav/LLM/lib/python3.11/site-packages (from jinja2->altair) (2.1.3)\n",
      "Requirement already satisfied: six>=1.5 in /Users/pathakav/LLM/lib/python3.11/site-packages (from python-dateutil>=2.8.2->pandas>=0.18->altair) (1.16.0)\n",
      "Installing collected packages: numpy\n",
      "Successfully installed numpy-1.24.4\n",
      "\n",
      "\u001b[1m[\u001b[0m\u001b[34;49mnotice\u001b[0m\u001b[1;39;49m]\u001b[0m\u001b[39;49m A new release of pip is available: \u001b[0m\u001b[31;49m23.1.2\u001b[0m\u001b[39;49m -> \u001b[0m\u001b[32;49m23.2.1\u001b[0m\n",
      "\u001b[1m[\u001b[0m\u001b[34;49mnotice\u001b[0m\u001b[1;39;49m]\u001b[0m\u001b[39;49m To update, run: \u001b[0m\u001b[32;49mpip install --upgrade pip\u001b[0m\n"
     ]
    }
   ],
   "source": [
    "!pip install cohere umap-learn altair datasets"
   ]
  },
  {
   "cell_type": "code",
   "execution_count": 3,
   "id": "5669b8e5",
   "metadata": {},
   "outputs": [],
   "source": [
    "import cohere\n",
    "import pandas as pd"
   ]
  },
  {
   "cell_type": "code",
   "execution_count": 4,
   "id": "9bfffd45",
   "metadata": {},
   "outputs": [],
   "source": [
    "#cohere_api_key = <cohere_api_key>\"\n",
    "co = cohere.Client(cohere_api_key)"
   ]
  },
  {
   "cell_type": "code",
   "execution_count": 5,
   "id": "85572abf",
   "metadata": {},
   "outputs": [
    {
     "data": {
      "text/html": [
       "<div>\n",
       "<style scoped>\n",
       "    .dataframe tbody tr th:only-of-type {\n",
       "        vertical-align: middle;\n",
       "    }\n",
       "\n",
       "    .dataframe tbody tr th {\n",
       "        vertical-align: top;\n",
       "    }\n",
       "\n",
       "    .dataframe thead th {\n",
       "        text-align: right;\n",
       "    }\n",
       "</style>\n",
       "<table border=\"1\" class=\"dataframe\">\n",
       "  <thead>\n",
       "    <tr style=\"text-align: right;\">\n",
       "      <th></th>\n",
       "      <th>text</th>\n",
       "    </tr>\n",
       "  </thead>\n",
       "  <tbody>\n",
       "    <tr>\n",
       "      <th>0</th>\n",
       "      <td>joy</td>\n",
       "    </tr>\n",
       "    <tr>\n",
       "      <th>1</th>\n",
       "      <td>happiness</td>\n",
       "    </tr>\n",
       "    <tr>\n",
       "      <th>2</th>\n",
       "      <td>potato</td>\n",
       "    </tr>\n",
       "  </tbody>\n",
       "</table>\n",
       "</div>"
      ],
      "text/plain": [
       "        text\n",
       "0        joy\n",
       "1  happiness\n",
       "2     potato"
      ]
     },
     "execution_count": 5,
     "metadata": {},
     "output_type": "execute_result"
    }
   ],
   "source": [
    "three_words = pd.DataFrame({'text':\n",
    "  [\n",
    "      'joy',\n",
    "      'happiness',\n",
    "      'potato'\n",
    "  ]})\n",
    "\n",
    "three_words"
   ]
  },
  {
   "cell_type": "code",
   "execution_count": 6,
   "id": "540c4882",
   "metadata": {},
   "outputs": [],
   "source": [
    "three_words_emb = co.embed(texts=list(three_words['text']),\n",
    "                           model='embed-english-v2.0').embeddings"
   ]
  },
  {
   "cell_type": "code",
   "execution_count": 7,
   "id": "5b5d740c",
   "metadata": {},
   "outputs": [],
   "source": [
    "word_1 = three_words_emb[0]\n",
    "word_2 = three_words_emb[1]\n",
    "word_3 = three_words_emb[2]"
   ]
  },
  {
   "cell_type": "code",
   "execution_count": 8,
   "id": "727bc5c2",
   "metadata": {},
   "outputs": [
    {
     "data": {
      "text/plain": [
       "4096"
      ]
     },
     "execution_count": 8,
     "metadata": {},
     "output_type": "execute_result"
    }
   ],
   "source": [
    "len(word_1)"
   ]
  },
  {
   "cell_type": "markdown",
   "id": "9641d4b3",
   "metadata": {},
   "source": [
    "## Sentence Embeddings"
   ]
  },
  {
   "cell_type": "code",
   "execution_count": 9,
   "id": "a2331a68",
   "metadata": {},
   "outputs": [
    {
     "data": {
      "text/html": [
       "<div>\n",
       "<style scoped>\n",
       "    .dataframe tbody tr th:only-of-type {\n",
       "        vertical-align: middle;\n",
       "    }\n",
       "\n",
       "    .dataframe tbody tr th {\n",
       "        vertical-align: top;\n",
       "    }\n",
       "\n",
       "    .dataframe thead th {\n",
       "        text-align: right;\n",
       "    }\n",
       "</style>\n",
       "<table border=\"1\" class=\"dataframe\">\n",
       "  <thead>\n",
       "    <tr style=\"text-align: right;\">\n",
       "      <th></th>\n",
       "      <th>text</th>\n",
       "    </tr>\n",
       "  </thead>\n",
       "  <tbody>\n",
       "    <tr>\n",
       "      <th>0</th>\n",
       "      <td>Where is the world cup?</td>\n",
       "    </tr>\n",
       "    <tr>\n",
       "      <th>1</th>\n",
       "      <td>The world cup is in Qatar</td>\n",
       "    </tr>\n",
       "    <tr>\n",
       "      <th>2</th>\n",
       "      <td>What color is the sky?</td>\n",
       "    </tr>\n",
       "    <tr>\n",
       "      <th>3</th>\n",
       "      <td>The sky is blue</td>\n",
       "    </tr>\n",
       "    <tr>\n",
       "      <th>4</th>\n",
       "      <td>Where does the bear live?</td>\n",
       "    </tr>\n",
       "    <tr>\n",
       "      <th>5</th>\n",
       "      <td>The bear lives in the the woods</td>\n",
       "    </tr>\n",
       "    <tr>\n",
       "      <th>6</th>\n",
       "      <td>What is an apple?</td>\n",
       "    </tr>\n",
       "    <tr>\n",
       "      <th>7</th>\n",
       "      <td>An apple is a fruit</td>\n",
       "    </tr>\n",
       "  </tbody>\n",
       "</table>\n",
       "</div>"
      ],
      "text/plain": [
       "                              text\n",
       "0          Where is the world cup?\n",
       "1        The world cup is in Qatar\n",
       "2           What color is the sky?\n",
       "3                  The sky is blue\n",
       "4        Where does the bear live?\n",
       "5  The bear lives in the the woods\n",
       "6                What is an apple?\n",
       "7              An apple is a fruit"
      ]
     },
     "execution_count": 9,
     "metadata": {},
     "output_type": "execute_result"
    }
   ],
   "source": [
    "sentences = pd.DataFrame({'text':\n",
    "  [\n",
    "   'Where is the world cup?',\n",
    "   'The world cup is in Qatar',\n",
    "   'What color is the sky?',\n",
    "   'The sky is blue',\n",
    "   'Where does the bear live?',\n",
    "   'The bear lives in the the woods',\n",
    "   'What is an apple?',\n",
    "   'An apple is a fruit',\n",
    "  ]})\n",
    "\n",
    "sentences"
   ]
  },
  {
   "cell_type": "code",
   "execution_count": 10,
   "id": "e601a441",
   "metadata": {},
   "outputs": [
    {
     "name": "stdout",
     "output_type": "stream",
     "text": [
      "[0.27319336, -0.37768555, -1.0273438]\n",
      "[0.49804688, 1.2236328, 0.4074707]\n",
      "[-0.23571777, -0.9375, 0.9614258]\n",
      "[0.08300781, -0.32080078, 0.9272461]\n",
      "[0.49780273, -0.35058594, -1.6171875]\n",
      "[1.2294922, -1.3779297, -1.8378906]\n",
      "[0.15686035, -0.92041016, 1.5996094]\n",
      "[1.0761719, -0.7211914, 0.9296875]\n"
     ]
    }
   ],
   "source": [
    "emb = co.embed(texts=list(sentences['text']),\n",
    "               model='embed-english-v2.0').embeddings\n",
    "\n",
    "# Explore the 10 first entries of the embeddings of the 3 sentences:\n",
    "for e in emb:\n",
    "    print(e[:3])"
   ]
  },
  {
   "cell_type": "code",
   "execution_count": 11,
   "id": "3826521d",
   "metadata": {},
   "outputs": [
    {
     "data": {
      "text/plain": [
       "4096"
      ]
     },
     "execution_count": 11,
     "metadata": {},
     "output_type": "execute_result"
    }
   ],
   "source": [
    "len(emb[0])"
   ]
  },
  {
   "cell_type": "code",
   "execution_count": 41,
   "id": "95c021e4",
   "metadata": {},
   "outputs": [],
   "source": [
    "import umap\n",
    "import altair as alt\n",
    "import pandas as pd\n",
    "\n",
    "def umap_plot(sentences, emb, labels=None):\n",
    "    \"\"\"\n",
    "    Create a UMAP plot to visualize text embeddings.\n",
    "\n",
    "    Parameters:\n",
    "    - sentences: List of text sentences or documents.\n",
    "    - emb: List of corresponding embeddings (e.g., word embeddings or document embeddings).\n",
    "    - labels: Optional list of labels for coloring points in the plot.\n",
    "\n",
    "    Returns:\n",
    "    - Altair chart object for an interactive UMAP plot.\n",
    "    \"\"\"\n",
    "    # Perform UMAP dimensionality reduction\n",
    "    reducer = umap.UMAP(n_neighbors=2, min_dist=0.0, metric='cosine')\n",
    "    #reducer = umap.UMAP()\n",
    "\n",
    "    embedding = reducer.fit_transform(emb)\n",
    "\n",
    "    # Create a DataFrame for visualization\n",
    "    df = pd.DataFrame({'x': embedding[:, 0], 'y': embedding[:, 1]})\n",
    "    if labels:\n",
    "        df['label'] = labels\n",
    "\n",
    "    # Create UMAP scatter plot using Altair\n",
    "    scatter = alt.Chart(df).mark_circle(size=60, opacity=0.6).encode(\n",
    "        x='x',\n",
    "        y='y',\n",
    "        #tooltip=labels if labels else [],\n",
    "        #tooltip=['sentences'] + (labels if labels else []),\n",
    "    )\n",
    "\n",
    "    if labels:\n",
    "        scatter = scatter.encode(\n",
    "            color=alt.Color('label:N', scale=alt.Scale(scheme='category20')),\n",
    "        )\n",
    "\n",
    "    return scatter\n",
    "\n",
    "# Example usage:\n",
    "# Replace 'sentences' and 'emb' with your actual data\n",
    "# umap_plot(sentences, emb, labels=your_labels).interactive()\n"
   ]
  },
  {
   "cell_type": "code",
   "execution_count": 42,
   "id": "810004d0",
   "metadata": {},
   "outputs": [],
   "source": [
    "chart = umap_plot(sentences, emb)"
   ]
  },
  {
   "cell_type": "code",
   "execution_count": 43,
   "id": "80ac0136",
   "metadata": {},
   "outputs": [
    {
     "data": {
      "text/html": [
       "\n",
       "<style>\n",
       "  #altair-viz-42ffacdedf704eafbd560b4fbf0d01f8.vega-embed {\n",
       "    width: 100%;\n",
       "    display: flex;\n",
       "  }\n",
       "\n",
       "  #altair-viz-42ffacdedf704eafbd560b4fbf0d01f8.vega-embed details,\n",
       "  #altair-viz-42ffacdedf704eafbd560b4fbf0d01f8.vega-embed details summary {\n",
       "    position: relative;\n",
       "  }\n",
       "</style>\n",
       "<div id=\"altair-viz-42ffacdedf704eafbd560b4fbf0d01f8\"></div>\n",
       "<script type=\"text/javascript\">\n",
       "  var VEGA_DEBUG = (typeof VEGA_DEBUG == \"undefined\") ? {} : VEGA_DEBUG;\n",
       "  (function(spec, embedOpt){\n",
       "    let outputDiv = document.currentScript.previousElementSibling;\n",
       "    if (outputDiv.id !== \"altair-viz-42ffacdedf704eafbd560b4fbf0d01f8\") {\n",
       "      outputDiv = document.getElementById(\"altair-viz-42ffacdedf704eafbd560b4fbf0d01f8\");\n",
       "    }\n",
       "    const paths = {\n",
       "      \"vega\": \"https://cdn.jsdelivr.net/npm/vega@5?noext\",\n",
       "      \"vega-lib\": \"https://cdn.jsdelivr.net/npm/vega-lib?noext\",\n",
       "      \"vega-lite\": \"https://cdn.jsdelivr.net/npm/vega-lite@5.8.0?noext\",\n",
       "      \"vega-embed\": \"https://cdn.jsdelivr.net/npm/vega-embed@6?noext\",\n",
       "    };\n",
       "\n",
       "    function maybeLoadScript(lib, version) {\n",
       "      var key = `${lib.replace(\"-\", \"\")}_version`;\n",
       "      return (VEGA_DEBUG[key] == version) ?\n",
       "        Promise.resolve(paths[lib]) :\n",
       "        new Promise(function(resolve, reject) {\n",
       "          var s = document.createElement('script');\n",
       "          document.getElementsByTagName(\"head\")[0].appendChild(s);\n",
       "          s.async = true;\n",
       "          s.onload = () => {\n",
       "            VEGA_DEBUG[key] = version;\n",
       "            return resolve(paths[lib]);\n",
       "          };\n",
       "          s.onerror = () => reject(`Error loading script: ${paths[lib]}`);\n",
       "          s.src = paths[lib];\n",
       "        });\n",
       "    }\n",
       "\n",
       "    function showError(err) {\n",
       "      outputDiv.innerHTML = `<div class=\"error\" style=\"color:red;\">${err}</div>`;\n",
       "      throw err;\n",
       "    }\n",
       "\n",
       "    function displayChart(vegaEmbed) {\n",
       "      vegaEmbed(outputDiv, spec, embedOpt)\n",
       "        .catch(err => showError(`Javascript Error: ${err.message}<br>This usually means there's a typo in your chart specification. See the javascript console for the full traceback.`));\n",
       "    }\n",
       "\n",
       "    if(typeof define === \"function\" && define.amd) {\n",
       "      requirejs.config({paths});\n",
       "      require([\"vega-embed\"], displayChart, err => showError(`Error loading script: ${err.message}`));\n",
       "    } else {\n",
       "      maybeLoadScript(\"vega\", \"5\")\n",
       "        .then(() => maybeLoadScript(\"vega-lite\", \"5.8.0\"))\n",
       "        .then(() => maybeLoadScript(\"vega-embed\", \"6\"))\n",
       "        .catch(showError)\n",
       "        .then(() => displayChart(vegaEmbed));\n",
       "    }\n",
       "  })({\"config\": {\"view\": {\"continuousWidth\": 300, \"continuousHeight\": 300}}, \"data\": {\"name\": \"data-e48e84b030c7c8eb8707760a8eb44494\"}, \"mark\": {\"type\": \"circle\", \"opacity\": 0.6, \"size\": 60}, \"encoding\": {\"x\": {\"field\": \"x\", \"type\": \"quantitative\"}, \"y\": {\"field\": \"y\", \"type\": \"quantitative\"}}, \"params\": [{\"name\": \"param_6\", \"select\": {\"type\": \"interval\", \"encodings\": [\"x\", \"y\"]}, \"bind\": \"scales\"}], \"$schema\": \"https://vega.github.io/schema/vega-lite/v5.8.0.json\", \"datasets\": {\"data-e48e84b030c7c8eb8707760a8eb44494\": [{\"x\": 23.219173431396484, \"y\": 8.070867538452148}, {\"x\": 23.491514205932617, \"y\": 8.362483024597168}, {\"x\": 3.22200083732605, \"y\": 11.171416282653809}, {\"x\": 3.536677837371826, \"y\": 10.967650413513184}, {\"x\": -11.005743980407715, \"y\": -13.210774421691895}, {\"x\": -10.67298412322998, \"y\": -13.488096237182617}, {\"x\": 3.3969311714172363, \"y\": 0.22937946021556854}, {\"x\": 3.070833444595337, \"y\": 0.3609602749347687}]}}, {\"mode\": \"vega-lite\"});\n",
       "</script>"
      ],
      "text/plain": [
       "alt.Chart(...)"
      ]
     },
     "execution_count": 43,
     "metadata": {},
     "output_type": "execute_result"
    }
   ],
   "source": [
    "chart.interactive()"
   ]
  },
  {
   "cell_type": "code",
   "execution_count": null,
   "id": "f4bb8186",
   "metadata": {},
   "outputs": [],
   "source": []
  }
 ],
 "metadata": {
  "kernelspec": {
   "display_name": "Python 3 (ipykernel)",
   "language": "python",
   "name": "python3"
  },
  "language_info": {
   "codemirror_mode": {
    "name": "ipython",
    "version": 3
   },
   "file_extension": ".py",
   "mimetype": "text/x-python",
   "name": "python",
   "nbconvert_exporter": "python",
   "pygments_lexer": "ipython3",
   "version": "3.11.4"
  }
 },
 "nbformat": 4,
 "nbformat_minor": 5
}
